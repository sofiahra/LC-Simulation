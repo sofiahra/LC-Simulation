{
 "cells": [
  {
   "cell_type": "markdown",
   "metadata": {},
   "source": [
    "# Identitas Siswa\n",
    "\n",
    "    Nama    : Siti Sofiah Ramadhany\n",
    "    Batch   : RMT 28"
   ]
  },
  {
   "cell_type": "markdown",
   "metadata": {},
   "source": [
    "# Jawaban Live Code Simulation"
   ]
  },
  {
   "cell_type": "markdown",
   "metadata": {},
   "source": [
    "## Program Inventory Management"
   ]
  },
  {
   "cell_type": "markdown",
   "metadata": {},
   "source": [
    "### Deskripsi Masalah"
   ]
  },
  {
   "cell_type": "code",
   "execution_count": 3,
   "metadata": {},
   "outputs": [
    {
     "data": {
      "text/plain": [
       "'\\n    Program ini merupakan program manajemen penyimpanan barang dimana program dapat digunakan untuk:\\n    1. Menginput data barang dengan spesifikasi nama, kategori, dan harga\\n    2. Menampilkan seluruh data yang sudah dimasukkan, jika masih kosong akan tampil pesan \"Data belum ada\"\\n    3. Jika sudah selesai menggunakan program bisa klik exit dan program akan berhenti\\n\\n'"
      ]
     },
     "execution_count": 3,
     "metadata": {},
     "output_type": "execute_result"
    }
   ],
   "source": [
    "'''\n",
    "    Program ini merupakan program manajemen penyimpanan barang dimana program dapat digunakan untuk:\n",
    "    1. Menginput data barang dengan spesifikasi nama, kategori, dan harga \n",
    "    2. Menampilkan seluruh data yang tersedia (sudah dimasukkan), jika masih kosong akan tampil pesan \"Data belum ada\"\n",
    "    3. Jika sudah selesai menggunakan program bisa klik exit dan program akan berhenti\n",
    "\n",
    "    NOTE: Gunakan NESTED LIST, FUNCTION yang dapat dipanggil,  WHILE LOOP untuk input exit\n",
    "'''"
   ]
  },
  {
   "cell_type": "markdown",
   "metadata": {},
   "source": [
    "### Coding Program"
   ]
  },
  {
   "cell_type": "code",
   "execution_count": 59,
   "metadata": {},
   "outputs": [
    {
     "name": "stdout",
     "output_type": "stream",
     "text": [
      "=============================\n",
      "Program Inventory Management\n",
      "=============================\n",
      "Menu: \n",
      "1. Input Data \n",
      "2. Menampilkan Data \n",
      "\n",
      "=============================\n",
      "Data Inventory\n",
      "=============================\n",
      "N0. | Nama Barang | Kategori Barang | Harga\n"
     ]
    },
    {
     "ename": "NameError",
     "evalue": "name 'nlist' is not defined",
     "output_type": "error",
     "traceback": [
      "\u001b[1;31m---------------------------------------------------------------------------\u001b[0m",
      "\u001b[1;31mNameError\u001b[0m                                 Traceback (most recent call last)",
      "Cell \u001b[1;32mIn[59], line 39\u001b[0m\n\u001b[0;32m     36\u001b[0m     \u001b[38;5;28;01melse\u001b[39;00m:\n\u001b[0;32m     37\u001b[0m         exit()\n\u001b[1;32m---> 39\u001b[0m \u001b[43mmenu\u001b[49m\u001b[43m(\u001b[49m\u001b[43m)\u001b[49m\n",
      "Cell \u001b[1;32mIn[59], line 32\u001b[0m, in \u001b[0;36mmenu\u001b[1;34m()\u001b[0m\n\u001b[0;32m     30\u001b[0m     \u001b[38;5;28mprint\u001b[39m(\u001b[38;5;124m\"\u001b[39m\u001b[38;5;124mData Inventory\u001b[39m\u001b[38;5;124m\"\u001b[39m)\n\u001b[0;32m     31\u001b[0m     \u001b[38;5;28mprint\u001b[39m(\u001b[38;5;124m\"\u001b[39m\u001b[38;5;124m=============================\u001b[39m\u001b[38;5;124m\"\u001b[39m)\n\u001b[1;32m---> 32\u001b[0m     \u001b[43mtampil\u001b[49m\u001b[43m(\u001b[49m\u001b[43m)\u001b[49m\n\u001b[0;32m     34\u001b[0m     menu() \u001b[38;5;66;03m# kembali ke menu\u001b[39;00m\n\u001b[0;32m     36\u001b[0m \u001b[38;5;28;01melse\u001b[39;00m:\n",
      "Cell \u001b[1;32mIn[53], line 4\u001b[0m, in \u001b[0;36mtampil\u001b[1;34m()\u001b[0m\n\u001b[0;32m      2\u001b[0m \u001b[38;5;28;01mdef\u001b[39;00m \u001b[38;5;21mtampil\u001b[39m():\n\u001b[0;32m      3\u001b[0m     \u001b[38;5;28mprint\u001b[39m(\u001b[38;5;124m\"\u001b[39m\u001b[38;5;124mN0. | Nama Barang | Kategori Barang | Harga\u001b[39m\u001b[38;5;124m\"\u001b[39m)\n\u001b[1;32m----> 4\u001b[0m     \u001b[38;5;28mprint\u001b[39m(\u001b[43mnlist\u001b[49m)\n",
      "\u001b[1;31mNameError\u001b[0m: name 'nlist' is not defined"
     ]
    }
   ],
   "source": [
    "def menu():\n",
    "    # Tampilan Judul Program\n",
    "    print(\"=============================\")\n",
    "    print(\"Program Inventory Management\")\n",
    "    print(\"=============================\")\n",
    "\n",
    "    # Tampilan Menu Program\n",
    "    print(\"Menu: \")\n",
    "    print(\"1. Input Data \")\n",
    "    print(\"2. Menampilkan Data \")\n",
    "\n",
    "    print(\"\")\n",
    "    # Tampilan Memilih Program\n",
    "    input_menu = str(input(\"pilih menu atau keluar: \")) # user input pilihan menu\n",
    "\n",
    "    # opsi menu 1\n",
    "    if input_menu == '1':\n",
    "        # Tampilan Menu 1\n",
    "        print(\"=============================\")\n",
    "        print(\"Input Data Inventory\")\n",
    "        print(\"=============================\")\n",
    "        tambah()\n",
    "        \n",
    "        menu() # kembali ke menu\n",
    "\n",
    "    # opsi menu 2\n",
    "    elif input_menu == '2':\n",
    "        # Tampilan Menu 2\n",
    "        print(\"=============================\")\n",
    "        print(\"Data Inventory\")\n",
    "        print(\"=============================\")\n",
    "        tampil()\n",
    "        \n",
    "        menu() # f kembali ke menu\n",
    "\n",
    "    else:\n",
    "        exit() # f exit\n",
    "\n",
    "menu()"
   ]
  },
  {
   "cell_type": "code",
   "execution_count": 30,
   "metadata": {},
   "outputs": [
    {
     "name": "stdout",
     "output_type": "stream",
     "text": [
      "Terimakasih, data sudah disimpan\n",
      "[['a', 'b', 'c']]\n"
     ]
    }
   ],
   "source": [
    "# Fungsi Menambahkan Barang\n",
    "def tambah():\n",
    "    nlist=[]\n",
    "    nama = input(\"Masukkan nama barang: \")\n",
    "    jenis = input(\"Masukkan kategori barang: \")\n",
    "    harga = input(\"Masukkan harga (Rupiah): \")\n",
    "    print(\"Terimakasih, data sudah disimpan\")\n",
    "    barang = [nama, jenis, harga]\n",
    "    nlist.append(barang)\n",
    "    print(nlist)\n",
    "\n",
    "# tambah()"
   ]
  },
  {
   "cell_type": "code",
   "execution_count": 53,
   "metadata": {},
   "outputs": [],
   "source": [
    "# Fungsi Menampilkan Data Barang\n",
    "def tampil():\n",
    "    print(\"N0. | Nama Barang | Kategori Barang | Harga\")\n",
    "    print(nlist)\n",
    "\n",
    "# tampil()"
   ]
  },
  {
   "cell_type": "code",
   "execution_count": 54,
   "metadata": {},
   "outputs": [],
   "source": [
    "# Fungsi exit\n",
    "def exit():\n",
    "    while True:\n",
    "        menu()\n",
    "        if input_menu.lower() == 'exit': # jika user input exit maka program selesai\n",
    "            # Tampilan Exit\n",
    "            print(\"Terimakasih, sampai jumpa!\")\n",
    "            break   # exit menu loop\n",
    "\n",
    "# exit()"
   ]
  }
 ],
 "metadata": {
  "kernelspec": {
   "display_name": "base",
   "language": "python",
   "name": "python3"
  },
  "language_info": {
   "codemirror_mode": {
    "name": "ipython",
    "version": 3
   },
   "file_extension": ".py",
   "mimetype": "text/x-python",
   "name": "python",
   "nbconvert_exporter": "python",
   "pygments_lexer": "ipython3",
   "version": "3.9.18"
  }
 },
 "nbformat": 4,
 "nbformat_minor": 2
}
